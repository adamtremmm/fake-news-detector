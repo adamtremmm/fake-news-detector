{
 "cells": [
  {
   "cell_type": "code",
   "execution_count": 68,
   "metadata": {},
   "outputs": [],
   "source": [
    "import os\n",
    "from random import random\n",
    "import pandas as pd\n",
    "\n",
    "from sklearn.model_selection import train_test_split\n",
    "from sklearn.pipeline import Pipeline\n",
    "from sklearn.feature_selection import SelectFromModel\n",
    "from sklearn.svm import LinearSVC\n",
    "from sklearn.feature_extraction.text import TfidfVectorizer\n",
    "from sklearn.externals import joblib"
   ]
  },
  {
   "cell_type": "markdown",
   "metadata": {},
   "source": [
    "### Load sample from FakeNewsCorpus"
   ]
  },
  {
   "cell_type": "code",
   "execution_count": 69,
   "metadata": {},
   "outputs": [
    {
     "name": "stdout",
     "output_type": "stream",
     "text": [
      "<class 'pandas.core.frame.DataFrame'>\n",
      "RangeIndex: 84972 entries, 0 to 84971\n",
      "Data columns (total 17 columns):\n",
      "Unnamed: 0          84972 non-null object\n",
      "id                  84972 non-null object\n",
      "domain              84972 non-null object\n",
      "type                80912 non-null object\n",
      "url                 84972 non-null object\n",
      "content             84971 non-null object\n",
      "scraped_at          84971 non-null object\n",
      "inserted_at         84972 non-null object\n",
      "updated_at          84972 non-null object\n",
      "title               84235 non-null object\n",
      "authors             46987 non-null object\n",
      "keywords            0 non-null float64\n",
      "meta_keywords       81585 non-null object\n",
      "meta_description    40572 non-null object\n",
      "tags                19511 non-null object\n",
      "summary             0 non-null float64\n",
      "source              18757 non-null object\n",
      "dtypes: float64(2), object(15)\n",
      "memory usage: 11.0+ MB\n"
     ]
    },
    {
     "name": "stderr",
     "output_type": "stream",
     "text": [
      "/usr/lib/python3.7/site-packages/IPython/core/interactiveshell.py:2785: DtypeWarning: Columns (0,1,16) have mixed types. Specify dtype option on import or set low_memory=False.\n",
      "  interactivity=interactivity, compiler=compiler, result=result)\n"
     ]
    },
    {
     "data": {
      "text/plain": [
       "['hate',\n",
       " 'fake',\n",
       " 'reliable',\n",
       " 'political',\n",
       " 'conspiracy',\n",
       " 'satire',\n",
       " 'junksci',\n",
       " 'bias',\n",
       " nan,\n",
       " 'unknown',\n",
       " 'unreliable',\n",
       " 'rumor',\n",
       " 'clickbait',\n",
       " '2018-02-07 23:39:33.852696']"
      ]
     },
     "execution_count": 69,
     "metadata": {},
     "output_type": "execute_result"
    }
   ],
   "source": [
    "# only read in 20k rows at this point\n",
    "#df = pd.read_csv(\"news_cleaned_2018_02_13.csv\", nrows=20000)\n",
    "df = pd.read_csv(\"news_cleaned_2018_02_13.csv\", skiprows=lambda x: x>0 and random() > 0.01)\n",
    "#df = pd.read_csv(\"news_cleaned_sample50.csv\")\n",
    "df.info()\n",
    "df['type'].unique().tolist()"
   ]
  },
  {
   "cell_type": "code",
   "execution_count": 70,
   "metadata": {},
   "outputs": [
    {
     "data": {
      "text/plain": [
       "count        80912\n",
       "unique          13\n",
       "top       reliable\n",
       "freq         19064\n",
       "Name: type, dtype: object"
      ]
     },
     "execution_count": 70,
     "metadata": {},
     "output_type": "execute_result"
    }
   ],
   "source": [
    "#df.describe()\n",
    "df['type'].describe()"
   ]
  },
  {
   "cell_type": "code",
   "execution_count": 71,
   "metadata": {},
   "outputs": [
    {
     "data": {
      "text/html": [
       "<div>\n",
       "<style scoped>\n",
       "    .dataframe tbody tr th:only-of-type {\n",
       "        vertical-align: middle;\n",
       "    }\n",
       "\n",
       "    .dataframe tbody tr th {\n",
       "        vertical-align: top;\n",
       "    }\n",
       "\n",
       "    .dataframe thead th {\n",
       "        text-align: right;\n",
       "    }\n",
       "</style>\n",
       "<table border=\"1\" class=\"dataframe\">\n",
       "  <thead>\n",
       "    <tr style=\"text-align: right;\">\n",
       "      <th></th>\n",
       "      <th>keywords</th>\n",
       "      <th>summary</th>\n",
       "    </tr>\n",
       "  </thead>\n",
       "  <tbody>\n",
       "    <tr>\n",
       "      <th>count</th>\n",
       "      <td>0.0</td>\n",
       "      <td>0.0</td>\n",
       "    </tr>\n",
       "    <tr>\n",
       "      <th>mean</th>\n",
       "      <td>NaN</td>\n",
       "      <td>NaN</td>\n",
       "    </tr>\n",
       "    <tr>\n",
       "      <th>std</th>\n",
       "      <td>NaN</td>\n",
       "      <td>NaN</td>\n",
       "    </tr>\n",
       "    <tr>\n",
       "      <th>min</th>\n",
       "      <td>NaN</td>\n",
       "      <td>NaN</td>\n",
       "    </tr>\n",
       "    <tr>\n",
       "      <th>25%</th>\n",
       "      <td>NaN</td>\n",
       "      <td>NaN</td>\n",
       "    </tr>\n",
       "    <tr>\n",
       "      <th>50%</th>\n",
       "      <td>NaN</td>\n",
       "      <td>NaN</td>\n",
       "    </tr>\n",
       "    <tr>\n",
       "      <th>75%</th>\n",
       "      <td>NaN</td>\n",
       "      <td>NaN</td>\n",
       "    </tr>\n",
       "    <tr>\n",
       "      <th>max</th>\n",
       "      <td>NaN</td>\n",
       "      <td>NaN</td>\n",
       "    </tr>\n",
       "  </tbody>\n",
       "</table>\n",
       "</div>"
      ],
      "text/plain": [
       "       keywords  summary\n",
       "count       0.0      0.0\n",
       "mean        NaN      NaN\n",
       "std         NaN      NaN\n",
       "min         NaN      NaN\n",
       "25%         NaN      NaN\n",
       "50%         NaN      NaN\n",
       "75%         NaN      NaN\n",
       "max         NaN      NaN"
      ]
     },
     "execution_count": 71,
     "metadata": {},
     "output_type": "execute_result"
    }
   ],
   "source": [
    "# filter rows where 'type' == 'fake'\n",
    "df[ df['type'] == 'fake' ].describe()"
   ]
  },
  {
   "cell_type": "code",
   "execution_count": 72,
   "metadata": {},
   "outputs": [
    {
     "data": {
      "text/html": [
       "<div>\n",
       "<style scoped>\n",
       "    .dataframe tbody tr th:only-of-type {\n",
       "        vertical-align: middle;\n",
       "    }\n",
       "\n",
       "    .dataframe tbody tr th {\n",
       "        vertical-align: top;\n",
       "    }\n",
       "\n",
       "    .dataframe thead th {\n",
       "        text-align: right;\n",
       "    }\n",
       "</style>\n",
       "<table border=\"1\" class=\"dataframe\">\n",
       "  <thead>\n",
       "    <tr style=\"text-align: right;\">\n",
       "      <th></th>\n",
       "      <th>keywords</th>\n",
       "      <th>summary</th>\n",
       "    </tr>\n",
       "  </thead>\n",
       "  <tbody>\n",
       "    <tr>\n",
       "      <th>count</th>\n",
       "      <td>0.0</td>\n",
       "      <td>0.0</td>\n",
       "    </tr>\n",
       "    <tr>\n",
       "      <th>mean</th>\n",
       "      <td>NaN</td>\n",
       "      <td>NaN</td>\n",
       "    </tr>\n",
       "    <tr>\n",
       "      <th>std</th>\n",
       "      <td>NaN</td>\n",
       "      <td>NaN</td>\n",
       "    </tr>\n",
       "    <tr>\n",
       "      <th>min</th>\n",
       "      <td>NaN</td>\n",
       "      <td>NaN</td>\n",
       "    </tr>\n",
       "    <tr>\n",
       "      <th>25%</th>\n",
       "      <td>NaN</td>\n",
       "      <td>NaN</td>\n",
       "    </tr>\n",
       "    <tr>\n",
       "      <th>50%</th>\n",
       "      <td>NaN</td>\n",
       "      <td>NaN</td>\n",
       "    </tr>\n",
       "    <tr>\n",
       "      <th>75%</th>\n",
       "      <td>NaN</td>\n",
       "      <td>NaN</td>\n",
       "    </tr>\n",
       "    <tr>\n",
       "      <th>max</th>\n",
       "      <td>NaN</td>\n",
       "      <td>NaN</td>\n",
       "    </tr>\n",
       "  </tbody>\n",
       "</table>\n",
       "</div>"
      ],
      "text/plain": [
       "       keywords  summary\n",
       "count       0.0      0.0\n",
       "mean        NaN      NaN\n",
       "std         NaN      NaN\n",
       "min         NaN      NaN\n",
       "25%         NaN      NaN\n",
       "50%         NaN      NaN\n",
       "75%         NaN      NaN\n",
       "max         NaN      NaN"
      ]
     },
     "execution_count": 72,
     "metadata": {},
     "output_type": "execute_result"
    }
   ],
   "source": [
    "# filter rows where 'type' == 'reliable'\n",
    "df[ df['type'] == 'reliable' ].describe()"
   ]
  },
  {
   "cell_type": "code",
   "execution_count": 74,
   "metadata": {},
   "outputs": [
    {
     "data": {
      "text/html": [
       "<div>\n",
       "<style scoped>\n",
       "    .dataframe tbody tr th:only-of-type {\n",
       "        vertical-align: middle;\n",
       "    }\n",
       "\n",
       "    .dataframe tbody tr th {\n",
       "        vertical-align: top;\n",
       "    }\n",
       "\n",
       "    .dataframe thead th {\n",
       "        text-align: right;\n",
       "    }\n",
       "</style>\n",
       "<table border=\"1\" class=\"dataframe\">\n",
       "  <thead>\n",
       "    <tr style=\"text-align: right;\">\n",
       "      <th></th>\n",
       "      <th>Unnamed: 0</th>\n",
       "      <th>id</th>\n",
       "      <th>domain</th>\n",
       "      <th>type</th>\n",
       "      <th>url</th>\n",
       "      <th>content</th>\n",
       "      <th>scraped_at</th>\n",
       "      <th>inserted_at</th>\n",
       "      <th>updated_at</th>\n",
       "      <th>title</th>\n",
       "      <th>authors</th>\n",
       "      <th>keywords</th>\n",
       "      <th>meta_keywords</th>\n",
       "      <th>meta_description</th>\n",
       "      <th>tags</th>\n",
       "      <th>summary</th>\n",
       "      <th>source</th>\n",
       "    </tr>\n",
       "  </thead>\n",
       "  <tbody>\n",
       "    <tr>\n",
       "      <th>0</th>\n",
       "      <td>147</td>\n",
       "      <td>173</td>\n",
       "      <td>beforeitsnews.com</td>\n",
       "      <td>fake</td>\n",
       "      <td>http://beforeitsnews.com/prophecy/2018/01/larg...</td>\n",
       "      <td>Obama’s The Greatest Criminal In History Say T...</td>\n",
       "      <td>2018-01-25 16:17:44.789555</td>\n",
       "      <td>2018-02-02 01:19:41.756632</td>\n",
       "      <td>2018-02-02 01:19:41.756664</td>\n",
       "      <td>Largest Turnover in Midterm History Mark Taylo...</td>\n",
       "      <td>NaN</td>\n",
       "      <td>NaN</td>\n",
       "      <td>['']</td>\n",
       "      <td>NaN</td>\n",
       "      <td>NaN</td>\n",
       "      <td>NaN</td>\n",
       "      <td>NaN</td>\n",
       "    </tr>\n",
       "    <tr>\n",
       "      <th>1</th>\n",
       "      <td>1693</td>\n",
       "      <td>1936</td>\n",
       "      <td>beforeitsnews.com</td>\n",
       "      <td>fake</td>\n",
       "      <td>http://beforeitsnews.com/self-sufficiency/2018...</td>\n",
       "      <td>Slow Cooker Recipe: Pesto Mozzarella Chicken P...</td>\n",
       "      <td>2018-01-25 16:17:44.789555</td>\n",
       "      <td>2018-02-02 01:19:41.756632</td>\n",
       "      <td>2018-02-02 01:19:41.756664</td>\n",
       "      <td>Slow Cooker Recipe: Pesto Mozzarella Chicken P...</td>\n",
       "      <td>The Berkey Guy Blog</td>\n",
       "      <td>NaN</td>\n",
       "      <td>['']</td>\n",
       "      <td>NaN</td>\n",
       "      <td>NaN</td>\n",
       "      <td>NaN</td>\n",
       "      <td>NaN</td>\n",
       "    </tr>\n",
       "    <tr>\n",
       "      <th>2</th>\n",
       "      <td>1840</td>\n",
       "      <td>2094</td>\n",
       "      <td>beforeitsnews.com</td>\n",
       "      <td>fake</td>\n",
       "      <td>http://beforeitsnews.com/alternative/2018/01/c...</td>\n",
       "      <td>Proximity also encompasses temporality and is ...</td>\n",
       "      <td>2018-01-25 16:17:44.789555</td>\n",
       "      <td>2018-02-02 01:19:41.756632</td>\n",
       "      <td>2018-02-02 01:19:41.756664</td>\n",
       "      <td>Conviviality — Fear and Prejudice</td>\n",
       "      <td>Human Wrongs Watch</td>\n",
       "      <td>NaN</td>\n",
       "      <td>['']</td>\n",
       "      <td>NaN</td>\n",
       "      <td>NaN</td>\n",
       "      <td>NaN</td>\n",
       "      <td>NaN</td>\n",
       "    </tr>\n",
       "    <tr>\n",
       "      <th>3</th>\n",
       "      <td>2331</td>\n",
       "      <td>2669</td>\n",
       "      <td>beforeitsnews.com</td>\n",
       "      <td>fake</td>\n",
       "      <td>http://beforeitsnews.com/opinion-conservative/...</td>\n",
       "      <td>Muslim Newsweek Editor says sexual abuse of ch...</td>\n",
       "      <td>2018-01-25 16:17:44.789555</td>\n",
       "      <td>2018-02-02 01:19:41.756632</td>\n",
       "      <td>2018-02-02 01:19:41.756664</td>\n",
       "      <td>Muslim Newsweek Editor says sexual abuse of ch...</td>\n",
       "      <td>Atlas Shrugs</td>\n",
       "      <td>NaN</td>\n",
       "      <td>['']</td>\n",
       "      <td>NaN</td>\n",
       "      <td>NaN</td>\n",
       "      <td>NaN</td>\n",
       "      <td>NaN</td>\n",
       "    </tr>\n",
       "    <tr>\n",
       "      <th>4</th>\n",
       "      <td>2760</td>\n",
       "      <td>3140</td>\n",
       "      <td>beforeitsnews.com</td>\n",
       "      <td>fake</td>\n",
       "      <td>http://beforeitsnews.com/watercooler-topics/20...</td>\n",
       "      <td>German Schools Use Sand-Filled Vests to Calm D...</td>\n",
       "      <td>2018-01-25 16:17:44.789555</td>\n",
       "      <td>2018-02-02 01:19:41.756632</td>\n",
       "      <td>2018-02-02 01:19:41.756664</td>\n",
       "      <td>German Schools Use Sand-Filled Vests to Calm D...</td>\n",
       "      <td>Oddity Central</td>\n",
       "      <td>NaN</td>\n",
       "      <td>['']</td>\n",
       "      <td>NaN</td>\n",
       "      <td>NaN</td>\n",
       "      <td>NaN</td>\n",
       "      <td>NaN</td>\n",
       "    </tr>\n",
       "  </tbody>\n",
       "</table>\n",
       "</div>"
      ],
      "text/plain": [
       "  Unnamed: 0    id             domain  type  \\\n",
       "0        147   173  beforeitsnews.com  fake   \n",
       "1       1693  1936  beforeitsnews.com  fake   \n",
       "2       1840  2094  beforeitsnews.com  fake   \n",
       "3       2331  2669  beforeitsnews.com  fake   \n",
       "4       2760  3140  beforeitsnews.com  fake   \n",
       "\n",
       "                                                 url  \\\n",
       "0  http://beforeitsnews.com/prophecy/2018/01/larg...   \n",
       "1  http://beforeitsnews.com/self-sufficiency/2018...   \n",
       "2  http://beforeitsnews.com/alternative/2018/01/c...   \n",
       "3  http://beforeitsnews.com/opinion-conservative/...   \n",
       "4  http://beforeitsnews.com/watercooler-topics/20...   \n",
       "\n",
       "                                             content  \\\n",
       "0  Obama’s The Greatest Criminal In History Say T...   \n",
       "1  Slow Cooker Recipe: Pesto Mozzarella Chicken P...   \n",
       "2  Proximity also encompasses temporality and is ...   \n",
       "3  Muslim Newsweek Editor says sexual abuse of ch...   \n",
       "4  German Schools Use Sand-Filled Vests to Calm D...   \n",
       "\n",
       "                   scraped_at                 inserted_at  \\\n",
       "0  2018-01-25 16:17:44.789555  2018-02-02 01:19:41.756632   \n",
       "1  2018-01-25 16:17:44.789555  2018-02-02 01:19:41.756632   \n",
       "2  2018-01-25 16:17:44.789555  2018-02-02 01:19:41.756632   \n",
       "3  2018-01-25 16:17:44.789555  2018-02-02 01:19:41.756632   \n",
       "4  2018-01-25 16:17:44.789555  2018-02-02 01:19:41.756632   \n",
       "\n",
       "                   updated_at  \\\n",
       "0  2018-02-02 01:19:41.756664   \n",
       "1  2018-02-02 01:19:41.756664   \n",
       "2  2018-02-02 01:19:41.756664   \n",
       "3  2018-02-02 01:19:41.756664   \n",
       "4  2018-02-02 01:19:41.756664   \n",
       "\n",
       "                                               title              authors  \\\n",
       "0  Largest Turnover in Midterm History Mark Taylo...                  NaN   \n",
       "1  Slow Cooker Recipe: Pesto Mozzarella Chicken P...  The Berkey Guy Blog   \n",
       "2                  Conviviality — Fear and Prejudice   Human Wrongs Watch   \n",
       "3  Muslim Newsweek Editor says sexual abuse of ch...         Atlas Shrugs   \n",
       "4  German Schools Use Sand-Filled Vests to Calm D...       Oddity Central   \n",
       "\n",
       "   keywords meta_keywords meta_description tags  summary source  \n",
       "0       NaN          ['']              NaN  NaN      NaN    NaN  \n",
       "1       NaN          ['']              NaN  NaN      NaN    NaN  \n",
       "2       NaN          ['']              NaN  NaN      NaN    NaN  \n",
       "3       NaN          ['']              NaN  NaN      NaN    NaN  \n",
       "4       NaN          ['']              NaN  NaN      NaN    NaN  "
      ]
     },
     "execution_count": 74,
     "metadata": {},
     "output_type": "execute_result"
    }
   ],
   "source": [
    "# create 2 dfs from filtered df\n",
    "bindf1 = df[df['type'] == 'fake']\n",
    "bindf2 = df[df['type'] == 'reliable']\n",
    "# then concat into single df\n",
    "bindf = pd.concat([bindf1, bindf2], ignore_index=True)\n",
    "bindf.head()"
   ]
  },
  {
   "cell_type": "code",
   "execution_count": 32,
   "metadata": {},
   "outputs": [],
   "source": []
  },
  {
   "cell_type": "code",
   "execution_count": 33,
   "metadata": {},
   "outputs": [],
   "source": []
  },
  {
   "cell_type": "markdown",
   "metadata": {},
   "source": [
    "### Train-test split"
   ]
  },
  {
   "cell_type": "code",
   "execution_count": 75,
   "metadata": {},
   "outputs": [],
   "source": [
    "X_train, X_test, y_train, y_test = train_test_split(bindf.content, bindf.type, test_size=.2)"
   ]
  },
  {
   "cell_type": "code",
   "execution_count": 76,
   "metadata": {},
   "outputs": [
    {
     "data": {
      "text/plain": [
       "15761    reliable\n",
       "2203         fake\n",
       "1615         fake\n",
       "22477    reliable\n",
       "9338     reliable\n",
       "Name: type, dtype: object"
      ]
     },
     "execution_count": 76,
     "metadata": {},
     "output_type": "execute_result"
    }
   ],
   "source": [
    "y_train.head()"
   ]
  },
  {
   "cell_type": "code",
   "execution_count": 77,
   "metadata": {},
   "outputs": [
    {
     "data": {
      "text/plain": [
       "15761    Whether the increase was small or large, the c...\n",
       "2203     (Before It's News)\\n\\nPhoto is courtesy of Gag...\n",
       "1615     (GST, CRWE, FPP, GMO) Stock Report from Stock-...\n",
       "22477    Opinion » Should Beach Privatization Be Allowe...\n",
       "9338     Healthcare | Sun Nov 20, 2016 | 10:28pm EST BR...\n",
       "Name: content, dtype: object"
      ]
     },
     "execution_count": 77,
     "metadata": {},
     "output_type": "execute_result"
    }
   ],
   "source": [
    "X_train.head()"
   ]
  },
  {
   "cell_type": "markdown",
   "metadata": {},
   "source": [
    "### Feature extraction + classification pipeline"
   ]
  },
  {
   "cell_type": "code",
   "execution_count": 78,
   "metadata": {},
   "outputs": [],
   "source": [
    "# construct model from pipeline\n",
    "lin_svc = Pipeline([\n",
    "    ('vect', TfidfVectorizer(sublinear_tf=True, max_df=0.5, stop_words='english')),\n",
    "    ('feature_selection', SelectFromModel(LinearSVC(penalty=\"l1\", dual=False, tol=1e-3))), \n",
    "    ('classification', LinearSVC(penalty=\"l2\"))\n",
    "    ])"
   ]
  },
  {
   "cell_type": "code",
   "execution_count": 79,
   "metadata": {},
   "outputs": [],
   "source": [
    "# fit model\n",
    "clf_fake_reliable = lin_svc.fit(X_train, y_train)"
   ]
  },
  {
   "cell_type": "markdown",
   "metadata": {},
   "source": [
    "### Evaluate classifier performance"
   ]
  },
  {
   "cell_type": "code",
   "execution_count": 80,
   "metadata": {},
   "outputs": [],
   "source": [
    "from sklearn import metrics"
   ]
  },
  {
   "cell_type": "code",
   "execution_count": 49,
   "metadata": {},
   "outputs": [],
   "source": []
  },
  {
   "cell_type": "code",
   "execution_count": 81,
   "metadata": {},
   "outputs": [
    {
     "name": "stdout",
     "output_type": "stream",
     "text": [
      "Prediction accuracy: 0.951293487957181\n"
     ]
    }
   ],
   "source": [
    "# testing predictions\n",
    "import numpy as np\n",
    "predicted = clf_fake_reliable.predict(X_test)\n",
    "print(f\"Prediction accuracy: {np.mean(predicted == y_test)}\")"
   ]
  },
  {
   "cell_type": "code",
   "execution_count": 82,
   "metadata": {},
   "outputs": [
    {
     "name": "stdout",
     "output_type": "stream",
     "text": [
      "             precision    recall  f1-score   support\n",
      "\n",
      "   reliable       0.94      0.90      0.92      1787\n",
      "       fake       0.95      0.98      0.96      3818\n",
      "\n",
      "avg / total       0.95      0.95      0.95      5605\n",
      "\n"
     ]
    }
   ],
   "source": [
    "print(metrics.classification_report(y_test, predicted, target_names=list(y_test.unique())))"
   ]
  },
  {
   "cell_type": "code",
   "execution_count": 83,
   "metadata": {},
   "outputs": [
    {
     "data": {
      "text/plain": [
       "array([[1608,  179],\n",
       "       [  94, 3724]])"
      ]
     },
     "execution_count": 83,
     "metadata": {},
     "output_type": "execute_result"
    }
   ],
   "source": [
    "metrics.confusion_matrix(y_test, predicted)"
   ]
  },
  {
   "cell_type": "markdown",
   "metadata": {},
   "source": [
    "### Pickle classifier for easy future loading"
   ]
  },
  {
   "cell_type": "code",
   "execution_count": 84,
   "metadata": {},
   "outputs": [
    {
     "name": "stdout",
     "output_type": "stream",
     "text": [
      "Training classifier\n",
      "Pickling...\n"
     ]
    },
    {
     "data": {
      "text/plain": [
       "['clf_fake_reliable_rr.pkl']"
      ]
     },
     "execution_count": 84,
     "metadata": {},
     "output_type": "execute_result"
    }
   ],
   "source": [
    "# train & pickle classifiers\n",
    "print('Training classifier')\n",
    "#clf_tidy_PI = train_classifier(tidy_PI)\n",
    "print('Pickling...')\n",
    "joblib.dump(clf_fake_reliable, 'clf_fake_reliable_rr.pkl')"
   ]
  },
  {
   "cell_type": "code",
   "execution_count": null,
   "metadata": {},
   "outputs": [],
   "source": []
  }
 ],
 "metadata": {
  "kernelspec": {
   "display_name": "Python 3",
   "language": "python",
   "name": "python3"
  },
  "language_info": {
   "codemirror_mode": {
    "name": "ipython",
    "version": 3
   },
   "file_extension": ".py",
   "mimetype": "text/x-python",
   "name": "python",
   "nbconvert_exporter": "python",
   "pygments_lexer": "ipython3",
   "version": "3.7.5"
  }
 },
 "nbformat": 4,
 "nbformat_minor": 2
}
